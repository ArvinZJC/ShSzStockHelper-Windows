{
 "metadata": {
  "language_info": {
   "codemirror_mode": {
    "name": "ipython",
    "version": 3
   },
   "file_extension": ".py",
   "mimetype": "text/x-python",
   "name": "python",
   "nbconvert_exporter": "python",
   "pygments_lexer": "ipython3",
   "version": "3.8.11"
  },
  "orig_nbformat": 2,
  "kernelspec": {
   "name": "python3",
   "display_name": "Python 3.8.11 64-bit ('base': conda)"
  },
  "interpreter": {
   "hash": "b3ba2566441a7c06988d0923437866b63cedc61552a5af99d1f4fb67d367b25f"
  }
 },
 "nbformat": 4,
 "nbformat_minor": 2,
 "cells": [
  {
   "cell_type": "markdown",
   "source": [
    "Description: the Jupyter Notebook file containing the code for getting, validating, and updating data of stock symbols and corresponding names\n",
    "\n",
    "Version: 1.1.0.20210706\n",
    "\n",
    "Author: Arvin Zhao\n",
    "\n",
    "Last editors: Arvin Zhao\n",
    "\n",
    "Last time when data was retrieved: 2021-06-20 12:36:00"
   ],
   "metadata": {}
  },
  {
   "cell_type": "markdown",
   "source": [
    "## Getting Data of Stock Symbols and Corresponding Names"
   ],
   "metadata": {}
  },
  {
   "cell_type": "code",
   "execution_count": 1,
   "source": [
    "import tushare as ts\r\n",
    "\r\n",
    "ts_pro = ts.pro_api('f5bf618f99204f6f3cc805606ae262f6f514e526c7ad950ce2e4214d')  # Initialise Tushare Pro API with my token.\r\n",
    "data = ts_pro.stock_basic(exchange = '', list_status = 'L', fields = 'ts_code, name')  # Use the specified API to get a DataFrame object containing the specified data.\r\n",
    "\r\n",
    "print('The number of stocks:', data.shape[0], '\\nThe first 10 records:\\n', data.head(n = 10))"
   ],
   "outputs": [
    {
     "output_type": "stream",
     "name": "stdout",
     "text": [
      "The number of stocks: 4347 \n",
      "The first 10 records:\n",
      "      ts_code   name\n",
      "0  000001.SZ   平安银行\n",
      "1  000002.SZ    万科A\n",
      "2  000004.SZ   国华网安\n",
      "3  000005.SZ   ST星源\n",
      "4  000006.SZ   深振业A\n",
      "5  000007.SZ  *ST全新\n",
      "6  000008.SZ   神州高铁\n",
      "7  000009.SZ   中国宝安\n",
      "8  000010.SZ   美丽生态\n",
      "9  000011.SZ   深物业A\n"
     ]
    }
   ],
   "metadata": {
    "tags": []
   }
  },
  {
   "cell_type": "markdown",
   "source": [
    "## Saving Data to a JSON File"
   ],
   "metadata": {}
  },
  {
   "cell_type": "code",
   "execution_count": 2,
   "source": [
    "data_filename = 'StockSymbolNameData.json'"
   ],
   "outputs": [],
   "metadata": {}
  },
  {
   "cell_type": "code",
   "execution_count": 3,
   "source": [
    "data.to_json(data_filename, orient = 'records')"
   ],
   "outputs": [],
   "metadata": {}
  },
  {
   "cell_type": "markdown",
   "source": [
    "## Brief Validation & Update\n",
    "\n",
    "\"mbcs\" represents ASCII encoding. **Please do use Notepad instead of other editors like VS Code to modify the data file to ensure the encoding is not changed to UTF-8 or the others.**"
   ],
   "metadata": {}
  },
  {
   "cell_type": "code",
   "execution_count": 4,
   "source": [
    "import json, shutil\r\n",
    "\r\n",
    "target_dir = os.path.join(os.path.dirname(os.getcwd()), 'ShSzStockHelper', 'Resources')  # Locate the app development directory containing a data file pending comparison/update.\r\n",
    "path_previous_data = os.path.join(target_dir, data_filename)  # Locate the data file in the specified app development directory.\r\n",
    "\r\n",
    "if os.path.exists(data_filename):\r\n",
    "    if os.path.exists(target_dir):\r\n",
    "        is_same = False\r\n",
    "\r\n",
    "        if os.path.exists(path_previous_data):\r\n",
    "            list_new_data = json.load(open(data_filename, encoding = 'mbcs'))\r\n",
    "            list_previous_data = json.load(open(path_previous_data, encoding = 'mbcs'))\r\n",
    "            symbol_key_name = 'ts_code'\r\n",
    "            is_same = sorted(list_new_data, key = lambda x : x[symbol_key_name]) == sorted(list_previous_data, key = lambda x : x[symbol_key_name])\r\n",
    "            print('Same data?', is_same)\r\n",
    "\r\n",
    "        if not is_same:\r\n",
    "            shutil.copy2(data_filename, target_dir)\r\n",
    "            list_previous_data = json.load(open(path_previous_data, encoding = 'mbcs'))\r\n",
    "            is_same = sorted(list_new_data, key = lambda x : x[symbol_key_name]) == sorted(list_previous_data, key = lambda x : x[symbol_key_name])\r\n",
    "            print('Same data now?', is_same)\r\n",
    "    else:\r\n",
    "        print('Error! The specified app development directory does not exist.')\r\n",
    "else:\r\n",
    "    print('Error! Please first get new data.')"
   ],
   "outputs": [
    {
     "output_type": "stream",
     "name": "stdout",
     "text": [
      "Same data? False\n",
      "Same data now? True\n"
     ]
    }
   ],
   "metadata": {
    "tags": []
   }
  }
 ]
}