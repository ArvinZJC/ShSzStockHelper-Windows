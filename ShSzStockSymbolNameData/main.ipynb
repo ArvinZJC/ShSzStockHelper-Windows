{
 "metadata": {
  "language_info": {
   "codemirror_mode": {
    "name": "ipython",
    "version": 3
   },
   "file_extension": ".py",
   "mimetype": "text/x-python",
   "name": "python",
   "nbconvert_exporter": "python",
   "pygments_lexer": "ipython3",
   "version": "3.8.8"
  },
  "orig_nbformat": 2,
  "kernelspec": {
   "name": "python3",
   "display_name": "Python 3.8.8 64-bit ('base': conda)"
  },
  "interpreter": {
   "hash": "83ad9dc287f1bd68e1373a062e5fec25449c786b53be0804b995b765c2d61fc9"
  }
 },
 "nbformat": 4,
 "nbformat_minor": 2,
 "cells": [
  {
   "cell_type": "markdown",
   "metadata": {},
   "source": [
    "Description: the Jupyter Notebook file containing the code for getting, validating, and updating data of stock symbols and corresponding names\n",
    "\n",
    "Version: 1.1.0.20210620\n",
    "\n",
    "Author: Arvin Zhao\n",
    "\n",
    "Last editors: Arvin Zhao\n",
    "\n",
    "Last time when data was retrieved: 2021-06-20 12:36:00"
   ]
  },
  {
   "cell_type": "markdown",
   "metadata": {},
   "source": [
    "<h2>Getting Data of Stock Symbols and Corresponding Names</h2>"
   ]
  },
  {
   "cell_type": "code",
   "execution_count": 1,
   "metadata": {
    "tags": []
   },
   "outputs": [
    {
     "output_type": "stream",
     "name": "stdout",
     "text": [
      "The number of stocks: 4347 \nThe first 10 records:\n      ts_code   name\n0  000001.SZ   平安银行\n1  000002.SZ    万科A\n2  000004.SZ   国华网安\n3  000005.SZ   ST星源\n4  000006.SZ   深振业A\n5  000007.SZ  *ST全新\n6  000008.SZ   神州高铁\n7  000009.SZ   中国宝安\n8  000010.SZ   美丽生态\n9  000011.SZ   深物业A\n"
     ]
    }
   ],
   "source": [
    "import tushare as ts\n",
    "\n",
    "ts_pro = ts.pro_api('f5bf618f99204f6f3cc805606ae262f6f514e526c7ad950ce2e4214d')  # Initialise Tushare Pro API with my token.\n",
    "data = ts_pro.stock_basic(exchange = '', list_status = 'L', fields = 'ts_code, name')  # Use the specified API to get a DataFrame object containing the specified data.\n",
    "\n",
    "print('The number of stocks:', data.shape[0], '\\nThe first 10 records:\\n', data.head(n = 10))"
   ]
  },
  {
   "cell_type": "markdown",
   "metadata": {},
   "source": [
    "<h2>Saving Data to a JSON File</h2>"
   ]
  },
  {
   "cell_type": "code",
   "execution_count": 2,
   "metadata": {},
   "outputs": [],
   "source": [
    "data_filename = 'StockSymbolNameData.json'"
   ]
  },
  {
   "cell_type": "code",
   "execution_count": 3,
   "metadata": {},
   "outputs": [],
   "source": [
    "data.to_json(data_filename, orient = 'records')"
   ]
  },
  {
   "cell_type": "markdown",
   "metadata": {},
   "source": [
    "<h2>Brief Validation & Update</h2>\n",
    "\n",
    "\"mbcs\" represents ASCII encoding. **Please do use Notepad instead of other editors like VS Code to modify the data file to ensure the encoding is not changed to UTF-8 or the others.**"
   ]
  },
  {
   "cell_type": "code",
   "execution_count": 4,
   "metadata": {
    "tags": []
   },
   "outputs": [
    {
     "output_type": "stream",
     "name": "stdout",
     "text": [
      "Same data? False\nSame data now? True\n"
     ]
    }
   ],
   "source": [
    "import json, shutil\n",
    "\n",
    "target_dir = os.path.join(os.path.dirname(os.getcwd()), 'ShSzStockHelper', 'Resources')  # Locate the app development directory containing a data file pending comparison/update.\n",
    "path_previous_data = os.path.join(target_dir, data_filename)  # Locate the data file in the specified app development directory.\n",
    "\n",
    "if os.path.exists(data_filename):\n",
    "    if os.path.exists(target_dir):\n",
    "        is_same = False\n",
    "\n",
    "        if os.path.exists(path_previous_data):\n",
    "            list_new_data = json.load(open(data_filename, encoding = 'mbcs'))\n",
    "            list_previous_data = json.load(open(path_previous_data, encoding = 'mbcs'))\n",
    "            symbol_key_name = 'ts_code'\n",
    "            is_same = sorted(list_new_data, key = lambda x : x[symbol_key_name]) == sorted(list_previous_data, key = lambda x : x[symbol_key_name])\n",
    "            print('Same data?', is_same)\n",
    "\n",
    "        if not is_same:\n",
    "            shutil.copy2(data_filename, target_dir)\n",
    "            list_previous_data = json.load(open(path_previous_data, encoding = 'mbcs'))\n",
    "            is_same = sorted(list_new_data, key = lambda x : x[symbol_key_name]) == sorted(list_previous_data, key = lambda x : x[symbol_key_name])\n",
    "            print('Same data now?', is_same)\n",
    "    else:\n",
    "        print('Error! The specified app development directory does not exist.')\n",
    "else:\n",
    "    print('Error! Please first get new data.')"
   ]
  }
 ]
}