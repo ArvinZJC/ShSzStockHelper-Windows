{
 "metadata": {
  "language_info": {
   "codemirror_mode": {
    "name": "ipython",
    "version": 3
   },
   "file_extension": ".py",
   "mimetype": "text/x-python",
   "name": "python",
   "nbconvert_exporter": "python",
   "pygments_lexer": "ipython3",
   "version": "3.8.5-final"
  },
  "orig_nbformat": 2,
  "kernelspec": {
   "name": "python3",
   "display_name": "Python 3.8.5 64-bit (conda)",
   "metadata": {
    "interpreter": {
     "hash": "83ad9dc287f1bd68e1373a062e5fec25449c786b53be0804b995b765c2d61fc9"
    }
   }
  }
 },
 "nbformat": 4,
 "nbformat_minor": 2,
 "cells": [
  {
   "cell_type": "markdown",
   "metadata": {},
   "source": [
    "Description: the Jupyter Notebook file containing the code for getting and briefly validating data of stock symbols and corresponding names\n",
    "\n",
    "Version: 1.0.2.20210121\n",
    "\n",
    "Author: Arvin Zhao\n",
    "\n",
    "Last editors: Arvin Zhao\n",
    "\n",
    "Last time when data was retrieved: 2021-01-17 12:36:00"
   ]
  },
  {
   "cell_type": "markdown",
   "metadata": {},
   "source": [
    "<h2>Getting Data of Stock Symbols and Corresponding Names</h2>"
   ]
  },
  {
   "cell_type": "code",
   "execution_count": 1,
   "metadata": {
    "tags": []
   },
   "outputs": [
    {
     "output_type": "stream",
     "name": "stdout",
     "text": [
      "The number of stocks: 4139 \nThe first 10 records:\n      ts_code  name\n0  000001.SZ  平安银行\n1  000002.SZ   万科A\n2  000004.SZ  国华网安\n3  000005.SZ  世纪星源\n4  000006.SZ  深振业A\n5  000007.SZ   全新好\n6  000008.SZ  神州高铁\n7  000009.SZ  中国宝安\n8  000010.SZ  美丽生态\n9  000011.SZ  深物业A\n"
     ]
    }
   ],
   "source": [
    "import tushare as ts\n",
    "\n",
    "ts_pro = ts.pro_api('f5bf618f99204f6f3cc805606ae262f6f514e526c7ad950ce2e4214d') # Initialise Tushare Pro API with my token.\n",
    "data = ts_pro.stock_basic(exchange = '', list_status = 'L', fields = 'ts_code, name') # Use the specified API to get a DataFrame object containing the specified data.\n",
    "\n",
    "print('The number of stocks:', data.shape[0], '\\nThe first 10 records:\\n', data.head(n = 10))"
   ]
  },
  {
   "cell_type": "markdown",
   "metadata": {},
   "source": [
    "<h2>Saving Data to a JSON File</h2>"
   ]
  },
  {
   "cell_type": "code",
   "execution_count": 2,
   "metadata": {},
   "outputs": [],
   "source": [
    "data_filename = 'StockSymbolNameData.json'"
   ]
  },
  {
   "cell_type": "code",
   "execution_count": 3,
   "metadata": {},
   "outputs": [],
   "source": [
    "data.to_json(data_filename, orient = 'records')"
   ]
  },
  {
   "cell_type": "markdown",
   "metadata": {},
   "source": [
    "<h2>Brief Validation</h2>\n",
    "\n",
    "\"mbcs\" represents ASCII encoding. **Please do use Notepad instead of other editors like VS Code to modify the data file to ensure the encoding is not changed to UTF-8 or the others.**"
   ]
  },
  {
   "cell_type": "code",
   "execution_count": 5,
   "metadata": {
    "tags": []
   },
   "outputs": [
    {
     "output_type": "stream",
     "name": "stdout",
     "text": [
      "Same data? False\n"
     ]
    }
   ],
   "source": [
    "import json\n",
    "\n",
    "list_new_data = json.load(open(data_filename, encoding = 'mbcs'))\n",
    "list_previous_data = json.load(open(os.path.join(os.path.dirname(os.getcwd()), 'ShSzStockHelper', 'Resources', data_filename), encoding = 'mbcs'))\n",
    "\n",
    "symbol_key_name = 'ts_code'\n",
    "\n",
    "print('Same data?', sorted(list_new_data, key = lambda x : x[symbol_key_name]) == sorted(list_previous_data, key = lambda x : x[symbol_key_name]))"
   ]
  }
 ]
}